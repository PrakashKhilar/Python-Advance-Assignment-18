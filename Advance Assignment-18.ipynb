{
 "cells": [
  {
   "cell_type": "markdown",
   "id": "b3701616",
   "metadata": {},
   "source": [
    "# Advance Assignment-18"
   ]
  },
  {
   "cell_type": "code",
   "execution_count": 1,
   "id": "ac9f791e",
   "metadata": {},
   "outputs": [],
   "source": [
    "# Q1. Describe the differences between text and binary files in a single paragraph."
   ]
  },
  {
   "cell_type": "code",
   "execution_count": null,
   "id": "c154cc33",
   "metadata": {},
   "outputs": [],
   "source": [
    "# Ans;\n",
    "\n",
    "The differences between Text Files and Binary Files are:\n",
    "\n",
    "Text files are special subset of binary files that are used to store human readable characters as a rich text document or plain text document. \n",
    "Text files also store data in sequential bytes but bits in text file represents characters. \n",
    "\n",
    "Where as Binary files are those typical files that store data in the form of sequence of bytes grouped into eight bits or sometimes sixteen bits.\n",
    "These bits represent custom data and such files can store multiple types of data (images, audio, text, etc) under a single file."
   ]
  },
  {
   "cell_type": "code",
   "execution_count": 2,
   "id": "34d9d183",
   "metadata": {},
   "outputs": [],
   "source": [
    "# Q2. What are some scenarios where using text files will be the better option?\n",
    "#    When would you like to use binary files instead of text files?"
   ]
  },
  {
   "cell_type": "code",
   "execution_count": null,
   "id": "c40facf4",
   "metadata": {},
   "outputs": [],
   "source": [
    "# Ans;\n",
    "\n",
    "Text files are less prone to get corrupted as any undesired change may just show up once the file is opened and then can easily be removed whereas binary files can be used instead of text files for image data/video/audio.\n",
    "For many types of data, binary representations are much more space-efficient. \n",
    "\n",
    "For instance, you could represent an image as a text file. \n",
    "But any color represented as a 24-bit RGB value in a binary file has to be represented as a six-character code (e.g. FFFFFF for white) in text, which is literally twice as many bits.\n",
    "\n",
    "Another reason for using binary formats is that they can map directly onto the internal representation of the data that the program is using.\n",
    "If my program uses a complex data structure that’s full of integer, float, and byte values, when I read it in from a text file I have to parse every character of text and interpret it, spending processing time (and writing logic) to figure how to convert the 88 bits in “2983102931,” into the 32-bit integer that the text represents. \n",
    "If I read it from a binary file, the program just copies those 32 bits from the file into memory."
   ]
  },
  {
   "cell_type": "code",
   "execution_count": 3,
   "id": "7d61f54d",
   "metadata": {},
   "outputs": [],
   "source": [
    "# Q3. What are some of the issues with using binary operations to read and write a Python integer directly to disc?"
   ]
  },
  {
   "cell_type": "code",
   "execution_count": null,
   "id": "e7182b09",
   "metadata": {},
   "outputs": [],
   "source": [
    "# Ans;\n",
    "\n",
    "When we read or write a python integer using binary operations\n",
    "\n",
    "1. Binary operations deal with raw data\n",
    "2. One needs to identify how many bytes one would read or write."
   ]
  },
  {
   "cell_type": "code",
   "execution_count": 4,
   "id": "2b5c9770",
   "metadata": {},
   "outputs": [],
   "source": [
    "# Q4. Describe a benefit of using the with keyword instead of explicitly opening a file ?"
   ]
  },
  {
   "cell_type": "code",
   "execution_count": null,
   "id": "4b9b2a69",
   "metadata": {},
   "outputs": [],
   "source": [
    "# Ans;\n",
    "\n",
    "When a file is opened using the with keyword,it automatically closes the file if some exceptions occur after opening a file, or at the end of the file . \n",
    "Thereby not leaving a file in open mode and also there would no need to explicitly close a file. Using with means that the file will be closed as soon as you leave the block. This is beneficial because closing a file is something that can easily be forgotten and ties up resources that you no longer need."
   ]
  },
  {
   "cell_type": "code",
   "execution_count": 5,
   "id": "db8be5b3",
   "metadata": {},
   "outputs": [],
   "source": [
    "# Q5. Does Python have the trailing newline while reading a line of text? \n",
    "#    Does Python append a newline when you write a line of text?"
   ]
  },
  {
   "cell_type": "code",
   "execution_count": null,
   "id": "181e965d",
   "metadata": {},
   "outputs": [],
   "source": [
    "#   Ans;\n",
    "\n",
    "Yes, Python have the trailing newline while reading a line of text. When we write, a newline has to be provided in python explicitly to append a newline.\n",
    "Hence Python does not append a newline implicitly"
   ]
  },
  {
   "cell_type": "code",
   "execution_count": 6,
   "id": "9fc9dfb3",
   "metadata": {},
   "outputs": [],
   "source": [
    "# Q6. What file operations enable for random-access operation?"
   ]
  },
  {
   "cell_type": "code",
   "execution_count": null,
   "id": "bff74e44",
   "metadata": {},
   "outputs": [],
   "source": [
    "# Ans: The file operations enable for random-access operation are seek() and tell()"
   ]
  },
  {
   "cell_type": "code",
   "execution_count": null,
   "id": "81552a54",
   "metadata": {},
   "outputs": [],
   "source": [
    "# Q7. When do you think you'll use the struct package the most?"
   ]
  },
  {
   "cell_type": "code",
   "execution_count": null,
   "id": "6cdcf117",
   "metadata": {},
   "outputs": [],
   "source": [
    "# Ans: The struct package is mostly used while converting a common python language types into C language types."
   ]
  },
  {
   "cell_type": "code",
   "execution_count": 7,
   "id": "5b372894",
   "metadata": {},
   "outputs": [],
   "source": [
    "# Q8. When is pickling the best option?"
   ]
  },
  {
   "cell_type": "code",
   "execution_count": null,
   "id": "565508b2",
   "metadata": {},
   "outputs": [],
   "source": [
    "# Ans;\n",
    "\n",
    "Pickling is best option for creating a new binary file using python.\n",
    "Pickle in Python is primarily used in serializing and deserializing a Python object structure.\n",
    "\n",
    "In other words, it’s the process of converting a Python object into a byte stream to store it in a file/database, maintain program state across sessions, or transport data over the network. \n",
    "The pickled byte stream can be used to re-create the original object hierarchy by unpickling the stream. \n",
    "\n",
    "This whole process is similar to object serialization in Java or .Net."
   ]
  },
  {
   "cell_type": "code",
   "execution_count": 8,
   "id": "ca32c7e3",
   "metadata": {},
   "outputs": [],
   "source": [
    "# Q9. When will it be best to use the shelve package?"
   ]
  },
  {
   "cell_type": "code",
   "execution_count": null,
   "id": "c43f5a13",
   "metadata": {},
   "outputs": [],
   "source": [
    "# Ans;\n",
    "\n",
    "Shelve package is used to pickle data but treats the entire file as dictionary.\n",
    "A “shelf” is a persistent, dictionary-like object. \n",
    "The difference with “dbm” databases is that the values (not the keys) in a shelf can be essentially arbitrary Python objects — anything that the pickle module can handle. \n",
    "This includes most class instances, recursive data types, and objects containing lots of shared sub-objects.\n",
    "\n",
    "The keys are ordinary strings.\n",
    "\n",
    "Syntax: shelve.open(filename, flag='c', protocol=None, writeback=False)"
   ]
  },
  {
   "cell_type": "code",
   "execution_count": 9,
   "id": "55d7c24f",
   "metadata": {},
   "outputs": [],
   "source": [
    "# Q10. What is a special restriction when using the shelve package, as opposed to using other data dictionaries?"
   ]
  },
  {
   "cell_type": "code",
   "execution_count": null,
   "id": "9574e039",
   "metadata": {},
   "outputs": [],
   "source": [
    "# Ans: Only string data type can be used as key in this special dictionary (shelve package) object, whereas any pickle Python object can be used as value."
   ]
  }
 ],
 "metadata": {
  "kernelspec": {
   "display_name": "Python 3 (ipykernel)",
   "language": "python",
   "name": "python3"
  },
  "language_info": {
   "codemirror_mode": {
    "name": "ipython",
    "version": 3
   },
   "file_extension": ".py",
   "mimetype": "text/x-python",
   "name": "python",
   "nbconvert_exporter": "python",
   "pygments_lexer": "ipython3",
   "version": "3.9.12"
  }
 },
 "nbformat": 4,
 "nbformat_minor": 5
}
